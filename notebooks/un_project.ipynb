{
 "cells": [
  {
   "cell_type": "code",
   "execution_count": 1,
   "id": "a4506311-90c3-49dd-afd8-d455e7f7a50a",
   "metadata": {},
   "outputs": [],
   "source": [
    "import pandas as pd   \n",
    "import numpy as np \n",
    "import matplotlib.pyplot as plt  \n",
    "import seaborn as sns"
   ]
  },
  {
   "cell_type": "markdown",
   "id": "306e6276-1207-4f7e-80fb-1d5ca128f577",
   "metadata": {},
   "source": [
    "4.\tUsing the pandas `read_csv()` method, read the GDP dataset into your notebook as a DataFrame called `gdp_df`."
   ]
  },
  {
   "cell_type": "code",
   "execution_count": 3,
   "id": "05cf9ef6-7bf4-4f58-b75a-6ce58b99bb54",
   "metadata": {},
   "outputs": [],
   "source": [
    "gdp_df = pd.read_csv(r'C:\\DA12\\projects\\un-python-ericahen\\data\\gdp_percapita.csv')"
   ]
  },
  {
   "cell_type": "code",
   "execution_count": 4,
   "id": "27d8f524-490b-4187-92ba-3196cf4fd21f",
   "metadata": {},
   "outputs": [
    {
     "name": "stdout",
     "output_type": "stream",
     "text": [
      "<class 'pandas.core.frame.DataFrame'>\n",
      "RangeIndex: 7662 entries, 0 to 7661\n",
      "Data columns (total 4 columns):\n",
      " #   Column           Non-Null Count  Dtype  \n",
      "---  ------           --------------  -----  \n",
      " 0   Country or Area  7662 non-null   object \n",
      " 1   Year             7662 non-null   int64  \n",
      " 2   Value            7662 non-null   float64\n",
      " 3   Value Footnotes  0 non-null      float64\n",
      "dtypes: float64(2), int64(1), object(1)\n",
      "memory usage: 239.6+ KB\n"
     ]
    }
   ],
   "source": [
    "gdp_df.info()"
   ]
  },
  {
   "cell_type": "markdown",
   "id": "81e74e5e-7552-4d33-a335-11bf75edeee8",
   "metadata": {},
   "source": [
    "5. How many rows and columns are in `gdp_df`? What are the data types of each column?"
   ]
  },
  {
   "cell_type": "markdown",
   "id": "24b4cc08-54ee-4268-8758-da1dcc7f5732",
   "metadata": {},
   "source": [
    "7662 rows, 4 columns. Data types listed above."
   ]
  },
  {
   "cell_type": "markdown",
   "id": "961f55ea-d841-4d3a-8969-4957824a2419",
   "metadata": {},
   "source": [
    "6. Drop the `Value Footnotes` column and rename the remaining three to 'Country', 'Year', and 'GDP_Per_Capita'."
   ]
  },
  {
   "cell_type": "markdown",
   "id": "a376b30c-a61e-4950-83b2-dcf5e938151b",
   "metadata": {},
   "source": [
    "gdp_df.drop(['Value Footnotes'])"
   ]
  },
  {
   "cell_type": "code",
   "execution_count": 11,
   "id": "f84d3309-830c-4af0-ae1f-e65a86966c92",
   "metadata": {},
   "outputs": [
    {
     "name": "stdout",
     "output_type": "stream",
     "text": [
      "<class 'pandas.core.frame.DataFrame'>\n",
      "RangeIndex: 7662 entries, 0 to 7661\n",
      "Data columns (total 4 columns):\n",
      " #   Column           Non-Null Count  Dtype  \n",
      "---  ------           --------------  -----  \n",
      " 0   Country or Area  7662 non-null   object \n",
      " 1   Year             7662 non-null   int64  \n",
      " 2   Value            7662 non-null   float64\n",
      " 3   Value Footnotes  0 non-null      float64\n",
      "dtypes: float64(2), int64(1), object(1)\n",
      "memory usage: 239.6+ KB\n"
     ]
    }
   ],
   "source": [
    "gdp_df.info()"
   ]
  },
  {
   "cell_type": "code",
   "execution_count": null,
   "id": "aed55ac2-8e75-420d-aaaa-2692a99942e1",
   "metadata": {},
   "outputs": [],
   "source": []
  }
 ],
 "metadata": {
  "kernelspec": {
   "display_name": "Python 3 (ipykernel)",
   "language": "python",
   "name": "python3"
  },
  "language_info": {
   "codemirror_mode": {
    "name": "ipython",
    "version": 3
   },
   "file_extension": ".py",
   "mimetype": "text/x-python",
   "name": "python",
   "nbconvert_exporter": "python",
   "pygments_lexer": "ipython3",
   "version": "3.11.7"
  }
 },
 "nbformat": 4,
 "nbformat_minor": 5
}
