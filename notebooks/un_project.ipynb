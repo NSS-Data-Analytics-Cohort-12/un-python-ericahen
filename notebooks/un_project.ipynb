{
 "cells": [
  {
   "cell_type": "code",
   "execution_count": 1,
   "id": "a4506311-90c3-49dd-afd8-d455e7f7a50a",
   "metadata": {},
   "outputs": [],
   "source": [
    "import pandas as pd   \n",
    "import numpy as np \n",
    "import matplotlib.pyplot as plt  \n",
    "import seaborn as sns"
   ]
  },
  {
   "cell_type": "markdown",
   "id": "306e6276-1207-4f7e-80fb-1d5ca128f577",
   "metadata": {},
   "source": [
    "4.\tUsing the pandas `read_csv()` method, read the GDP dataset into your notebook as a DataFrame called `gdp_df`."
   ]
  },
  {
   "cell_type": "code",
   "execution_count": 3,
   "id": "05cf9ef6-7bf4-4f58-b75a-6ce58b99bb54",
   "metadata": {},
   "outputs": [],
   "source": [
    "gdp_df = pd.read_csv(r'C:\\DA12\\projects\\un-python-ericahen\\data\\gdp_percapita.csv')"
   ]
  },
  {
   "cell_type": "code",
   "execution_count": 4,
   "id": "27d8f524-490b-4187-92ba-3196cf4fd21f",
   "metadata": {},
   "outputs": [
    {
     "name": "stdout",
     "output_type": "stream",
     "text": [
      "<class 'pandas.core.frame.DataFrame'>\n",
      "RangeIndex: 7662 entries, 0 to 7661\n",
      "Data columns (total 4 columns):\n",
      " #   Column           Non-Null Count  Dtype  \n",
      "---  ------           --------------  -----  \n",
      " 0   Country or Area  7662 non-null   object \n",
      " 1   Year             7662 non-null   int64  \n",
      " 2   Value            7662 non-null   float64\n",
      " 3   Value Footnotes  0 non-null      float64\n",
      "dtypes: float64(2), int64(1), object(1)\n",
      "memory usage: 239.6+ KB\n"
     ]
    }
   ],
   "source": [
    "gdp_df.info()"
   ]
  },
  {
   "cell_type": "markdown",
   "id": "81e74e5e-7552-4d33-a335-11bf75edeee8",
   "metadata": {},
   "source": [
    "5. How many rows and columns are in `gdp_df`? What are the data types of each column?"
   ]
  },
  {
   "cell_type": "markdown",
   "id": "24b4cc08-54ee-4268-8758-da1dcc7f5732",
   "metadata": {},
   "source": [
    "7662 rows, 4 columns. Data types listed above."
   ]
  },
  {
   "cell_type": "markdown",
   "id": "961f55ea-d841-4d3a-8969-4957824a2419",
   "metadata": {},
   "source": [
    "6. Drop the `Value Footnotes` column and rename the remaining three to 'Country', 'Year', and 'GDP_Per_Capita'."
   ]
  },
  {
   "cell_type": "code",
   "execution_count": 8,
   "id": "f48e556a-3e32-468b-b678-fbb1f3edc293",
   "metadata": {},
   "outputs": [],
   "source": [
    "gdp_df=gdp_df.drop(columns='Value Footnotes')"
   ]
  },
  {
   "cell_type": "code",
   "execution_count": 9,
   "id": "f84d3309-830c-4af0-ae1f-e65a86966c92",
   "metadata": {},
   "outputs": [
    {
     "data": {
      "text/html": [
       "<div>\n",
       "<style scoped>\n",
       "    .dataframe tbody tr th:only-of-type {\n",
       "        vertical-align: middle;\n",
       "    }\n",
       "\n",
       "    .dataframe tbody tr th {\n",
       "        vertical-align: top;\n",
       "    }\n",
       "\n",
       "    .dataframe thead th {\n",
       "        text-align: right;\n",
       "    }\n",
       "</style>\n",
       "<table border=\"1\" class=\"dataframe\">\n",
       "  <thead>\n",
       "    <tr style=\"text-align: right;\">\n",
       "      <th></th>\n",
       "      <th>Country or Area</th>\n",
       "      <th>Year</th>\n",
       "      <th>Value</th>\n",
       "    </tr>\n",
       "  </thead>\n",
       "  <tbody>\n",
       "    <tr>\n",
       "      <th>0</th>\n",
       "      <td>Afghanistan</td>\n",
       "      <td>2021</td>\n",
       "      <td>1517.016266</td>\n",
       "    </tr>\n",
       "    <tr>\n",
       "      <th>1</th>\n",
       "      <td>Afghanistan</td>\n",
       "      <td>2020</td>\n",
       "      <td>1968.341002</td>\n",
       "    </tr>\n",
       "    <tr>\n",
       "      <th>2</th>\n",
       "      <td>Afghanistan</td>\n",
       "      <td>2019</td>\n",
       "      <td>2079.921861</td>\n",
       "    </tr>\n",
       "    <tr>\n",
       "      <th>3</th>\n",
       "      <td>Afghanistan</td>\n",
       "      <td>2018</td>\n",
       "      <td>2060.698973</td>\n",
       "    </tr>\n",
       "    <tr>\n",
       "      <th>4</th>\n",
       "      <td>Afghanistan</td>\n",
       "      <td>2017</td>\n",
       "      <td>2096.093111</td>\n",
       "    </tr>\n",
       "  </tbody>\n",
       "</table>\n",
       "</div>"
      ],
      "text/plain": [
       "  Country or Area  Year        Value\n",
       "0     Afghanistan  2021  1517.016266\n",
       "1     Afghanistan  2020  1968.341002\n",
       "2     Afghanistan  2019  2079.921861\n",
       "3     Afghanistan  2018  2060.698973\n",
       "4     Afghanistan  2017  2096.093111"
      ]
     },
     "execution_count": 9,
     "metadata": {},
     "output_type": "execute_result"
    }
   ],
   "source": [
    "gdp_df.head(5)"
   ]
  },
  {
   "cell_type": "code",
   "execution_count": 10,
   "id": "aed55ac2-8e75-420d-aaaa-2692a99942e1",
   "metadata": {},
   "outputs": [
    {
     "data": {
      "text/html": [
       "<div>\n",
       "<style scoped>\n",
       "    .dataframe tbody tr th:only-of-type {\n",
       "        vertical-align: middle;\n",
       "    }\n",
       "\n",
       "    .dataframe tbody tr th {\n",
       "        vertical-align: top;\n",
       "    }\n",
       "\n",
       "    .dataframe thead th {\n",
       "        text-align: right;\n",
       "    }\n",
       "</style>\n",
       "<table border=\"1\" class=\"dataframe\">\n",
       "  <thead>\n",
       "    <tr style=\"text-align: right;\">\n",
       "      <th></th>\n",
       "      <th>Country</th>\n",
       "      <th>Year</th>\n",
       "      <th>GDP_Per_Capita</th>\n",
       "    </tr>\n",
       "  </thead>\n",
       "  <tbody>\n",
       "    <tr>\n",
       "      <th>0</th>\n",
       "      <td>Afghanistan</td>\n",
       "      <td>2021</td>\n",
       "      <td>1517.016266</td>\n",
       "    </tr>\n",
       "    <tr>\n",
       "      <th>1</th>\n",
       "      <td>Afghanistan</td>\n",
       "      <td>2020</td>\n",
       "      <td>1968.341002</td>\n",
       "    </tr>\n",
       "    <tr>\n",
       "      <th>2</th>\n",
       "      <td>Afghanistan</td>\n",
       "      <td>2019</td>\n",
       "      <td>2079.921861</td>\n",
       "    </tr>\n",
       "    <tr>\n",
       "      <th>3</th>\n",
       "      <td>Afghanistan</td>\n",
       "      <td>2018</td>\n",
       "      <td>2060.698973</td>\n",
       "    </tr>\n",
       "    <tr>\n",
       "      <th>4</th>\n",
       "      <td>Afghanistan</td>\n",
       "      <td>2017</td>\n",
       "      <td>2096.093111</td>\n",
       "    </tr>\n",
       "  </tbody>\n",
       "</table>\n",
       "</div>"
      ],
      "text/plain": [
       "       Country  Year  GDP_Per_Capita\n",
       "0  Afghanistan  2021     1517.016266\n",
       "1  Afghanistan  2020     1968.341002\n",
       "2  Afghanistan  2019     2079.921861\n",
       "3  Afghanistan  2018     2060.698973\n",
       "4  Afghanistan  2017     2096.093111"
      ]
     },
     "execution_count": 10,
     "metadata": {},
     "output_type": "execute_result"
    }
   ],
   "source": [
    "gdp_df=gdp_df.rename(columns={'Country or Area' : 'Country', 'Value' : 'GDP_Per_Capita'})\n",
    "gdp_df.head(5)"
   ]
  },
  {
   "cell_type": "markdown",
   "id": "a3b1d28d-2af2-4af8-8c63-30a55d19021a",
   "metadata": {},
   "source": [
    "7. How many countries have data for all years? Which countries are missing many years of data? Look at the number of observations per year. What do you notice? "
   ]
  },
  {
   "cell_type": "markdown",
   "id": "8b28b761-68fb-4685-8492-effa917ee79c",
   "metadata": {},
   "source": [
    "gdp_df['Country'].value_counts(dropna=False) -- not correct"
   ]
  },
  {
   "cell_type": "code",
   "execution_count": 13,
   "id": "7a88f6d0-d8cc-4967-93cc-e50c68b39016",
   "metadata": {},
   "outputs": [
    {
     "name": "stdout",
     "output_type": "stream",
     "text": [
      "202\n"
     ]
    }
   ],
   "source": [
    "country_year_counts = gdp_df.groupby('Country')['Year'].nunique()\n",
    "\n",
    "total_years = gdp_df['Year'].nunique()\n",
    "\n",
    "countries_all_years = country_year_counts[country_year_counts == total_years].index.tolist()\n",
    "\n",
    "all_years_countries = len(countries_all_years)\n",
    "print(all_years_countries)"
   ]
  },
  {
   "cell_type": "code",
   "execution_count": 14,
   "id": "cce49396-6abb-45c7-abe8-7cfde9253a61",
   "metadata": {},
   "outputs": [
    {
     "name": "stdout",
     "output_type": "stream",
     "text": [
      "['Afghanistan', 'Bosnia and Herzegovina', 'Cambodia', 'Cayman Islands', 'Croatia', 'CuraÃ§ao', 'Djibouti', 'Estonia', 'Iceland', 'Israel', 'Kosovo', 'Latvia', 'Liberia', 'Libya', 'Lithuania', 'Maldives', 'Moldova', 'Montenegro', 'Nauru', 'Other small states', 'Palau', 'Qatar', 'San Marino', 'Serbia', 'Sint Maarten (Dutch part)', 'Slovenia', 'Small states', 'Somalia', 'SÃ£o TomÃ© and Principe', 'Timor-Leste', 'Turks and Caicos Islands', 'West Bank and Gaza']\n"
     ]
    }
   ],
   "source": [
    "countries_without_all_years = country_year_counts[country_year_counts <= (total_years - 3)].index.tolist()\n",
    "print(countries_without_all_years)"
   ]
  },
  {
   "cell_type": "code",
   "execution_count": 15,
   "id": "ae7caabd-1535-466b-a6b0-76812ddd8791",
   "metadata": {},
   "outputs": [
    {
     "name": "stdout",
     "output_type": "stream",
     "text": [
      "Year\n",
      "1990    207\n",
      "1991    208\n",
      "1992    210\n",
      "1993    211\n",
      "1994    213\n",
      "1995    223\n",
      "1996    223\n",
      "1997    226\n",
      "1998    226\n",
      "1999    227\n",
      "2000    233\n",
      "2001    234\n",
      "2002    235\n",
      "2003    235\n",
      "2004    236\n",
      "2005    236\n",
      "2006    237\n",
      "2007    237\n",
      "2008    238\n",
      "2009    239\n",
      "2010    239\n",
      "2011    240\n",
      "2012    240\n",
      "2013    242\n",
      "2014    242\n",
      "2015    242\n",
      "2016    242\n",
      "2017    242\n",
      "2018    242\n",
      "2019    242\n",
      "2020    242\n",
      "2021    241\n",
      "2022    232\n",
      "Name: count, dtype: int64\n"
     ]
    }
   ],
   "source": [
    "total_years_count = gdp_df['Year'].value_counts().sort_index()\n",
    "print(total_years_count)"
   ]
  },
  {
   "cell_type": "markdown",
   "id": "2d0761f1-4fae-407a-a847-18e75f262feb",
   "metadata": {},
   "source": [
    "8. In this question, you're going to create some plots to show the distribution of GDP per capita for the year 2020. Go to the Python Graph Gallery (https://www.python-graph-gallery.com/) and look at the different types of plots under the Distribution section. Create a histogram, a density plot, a boxplot, and a violin plot. What do you notice when you look at these plots? How do the plots compare and what information can you get out of one type that you can't necessarily get out of the others?\r\n"
   ]
  },
  {
   "cell_type": "code",
   "execution_count": 17,
   "id": "9b53544b-700e-476b-af82-df92b0b4147e",
   "metadata": {},
   "outputs": [
    {
     "data": {
      "text/plain": [
       "<Axes: >"
      ]
     },
     "execution_count": 17,
     "metadata": {},
     "output_type": "execute_result"
    },
    {
     "data": {
      "image/png": "[encoded data removed]",
      "text/plain": [
       "<Figure size 640x480 with 1 Axes>"
      ]
     },
     "metadata": {},
     "output_type": "display_data"
    }
   ],
   "source": [
    "gdp_2020 = gdp_df[gdp_df['Year'] == 2020]\n",
    "gdp_2020['GDP_Per_Capita'].hist()"
   ]
  },
  {
   "cell_type": "code",
   "execution_count": 18,
   "id": "197c91f0-c2d6-4153-a565-d0d963fa2039",
   "metadata": {},
   "outputs": [
    {
     "name": "stderr",
     "output_type": "stream",
     "text": [
      "C:\\Users\\erica\\anaconda3\\Lib\\site-packages\\seaborn\\_oldcore.py:1119: FutureWarning: use_inf_as_na option is deprecated and will be removed in a future version. Convert inf values to NaN before operating instead.\n",
      "  with pd.option_context('mode.use_inf_as_na', True):\n"
     ]
    },
    {
     "data": {
      "text/plain": [
       "<Axes: xlabel='GDP_Per_Capita', ylabel='Density'>"
      ]
     },
     "execution_count": 18,
     "metadata": {},
     "output_type": "execute_result"
    },
    {
     "data": {
      "image/png": "[encoded data removed]",
      "text/plain": [
       "<Figure size 640x480 with 1 Axes>"
      ]
     },
     "metadata": {},
     "output_type": "display_data"
    }
   ],
   "source": [
    "sns.kdeplot(gdp_2020['GDP_Per_Capita'])"
   ]
  },
  {
   "cell_type": "code",
   "execution_count": 19,
   "id": "124b799a-794d-44b0-a7ba-953766ffd117",
   "metadata": {},
   "outputs": [
    {
     "data": {
      "text/plain": [
       "<Axes: xlabel='Year', ylabel='GDP_Per_Capita'>"
      ]
     },
     "execution_count": 19,
     "metadata": {},
     "output_type": "execute_result"
    },
    {
     "data": {
      "image/png": "[encoded data removed]",
      "text/plain": [
       "<Figure size 640x480 with 1 Axes>"
      ]
     },
     "metadata": {},
     "output_type": "display_data"
    }
   ],
   "source": [
    "sns.boxplot( x=gdp_2020[\"Year\"], y=gdp_2020[\"GDP_Per_Capita\"] )"
   ]
  },
  {
   "cell_type": "code",
   "execution_count": 20,
   "id": "03bc576d-738f-4084-881d-d7d20a06bfa5",
   "metadata": {},
   "outputs": [
    {
     "data": {
      "text/plain": [
       "<Axes: xlabel='Year', ylabel='GDP_Per_Capita'>"
      ]
     },
     "execution_count": 20,
     "metadata": {},
     "output_type": "execute_result"
    },
    {
     "data": {
      "image/png": "[encoded data removed]",
      "text/plain": [
       "<Figure size 640x480 with 1 Axes>"
      ]
     },
     "metadata": {},
     "output_type": "display_data"
    }
   ],
   "source": [
    "sns.violinplot(x=gdp_2020[\"Year\"], y=gdp_2020[\"GDP_Per_Capita\"])"
   ]
  },
  {
   "cell_type": "markdown",
   "id": "2f64874a-525b-47df-af09-b6c9d7fed226",
   "metadata": {},
   "source": [
    "9. What was the median GDP per capita value in 2020?"
   ]
  },
  {
   "cell_type": "code",
   "execution_count": 22,
   "id": "d8a0bf8d-a2aa-4b41-8306-22eafe42a4c2",
   "metadata": {},
   "outputs": [
    {
     "data": {
      "text/plain": [
       "13357.997573370474"
      ]
     },
     "execution_count": 22,
     "metadata": {},
     "output_type": "execute_result"
    }
   ],
   "source": [
    "gdp_2020[\"GDP_Per_Capita\"].median()"
   ]
  },
  {
   "cell_type": "markdown",
   "id": "b8f3ffd1-f240-4171-9e21-2094d1ece00f",
   "metadata": {},
   "source": [
    "10. For this question, you're going to create some visualizations to compare GDP per capita values for the years 1990, 2000, 2010, and 2020. Start by subsetting your data to just these 4 years into a new DataFrame named gdp_decades. Using this, create the following 4 plots:\r\n",
    "\t* A boxplot\r\n",
    "\t* A barplot (check out the Barplot with Seaborn section: https://www.python-graph-gallery.com/barplot/#Seaborn)\r\n",
    "\t* A scatterplot\r\n",
    "\t* A scatterplot with a trend line overlaid (see this regplot example: https://www.python-graph-gallery.com/42-custom-linear-regression-fit-seaborn)  \r\n",
    "Comment on what you observe has happened to GDP values over time and the relative strengths and weaknesses of each type of plot.\r\n"
   ]
  },
  {
   "cell_type": "code",
   "execution_count": 24,
   "id": "151ebe62-34c8-4459-a78b-263533d856ba",
   "metadata": {},
   "outputs": [],
   "source": [
    "gdp_decades = gdp_df[gdp_df[\"Year\"].isin([1990,2000,2010,2020])]"
   ]
  },
  {
   "cell_type": "code",
   "execution_count": 25,
   "id": "138a70c2-14f8-4932-9eb4-35c47eb87d91",
   "metadata": {},
   "outputs": [
    {
     "data": {
      "text/html": [
       "<div>\n",
       "<style scoped>\n",
       "    .dataframe tbody tr th:only-of-type {\n",
       "        vertical-align: middle;\n",
       "    }\n",
       "\n",
       "    .dataframe tbody tr th {\n",
       "        vertical-align: top;\n",
       "    }\n",
       "\n",
       "    .dataframe thead th {\n",
       "        text-align: right;\n",
       "    }\n",
       "</style>\n",
       "<table border=\"1\" class=\"dataframe\">\n",
       "  <thead>\n",
       "    <tr style=\"text-align: right;\">\n",
       "      <th></th>\n",
       "      <th>Country</th>\n",
       "      <th>Year</th>\n",
       "      <th>GDP_Per_Capita</th>\n",
       "    </tr>\n",
       "  </thead>\n",
       "  <tbody>\n",
       "    <tr>\n",
       "      <th>1</th>\n",
       "      <td>Afghanistan</td>\n",
       "      <td>2020</td>\n",
       "      <td>1968.341002</td>\n",
       "    </tr>\n",
       "    <tr>\n",
       "      <th>11</th>\n",
       "      <td>Afghanistan</td>\n",
       "      <td>2010</td>\n",
       "      <td>2026.163818</td>\n",
       "    </tr>\n",
       "    <tr>\n",
       "      <th>22</th>\n",
       "      <td>Africa Eastern and Southern</td>\n",
       "      <td>2020</td>\n",
       "      <td>3455.023119</td>\n",
       "    </tr>\n",
       "    <tr>\n",
       "      <th>32</th>\n",
       "      <td>Africa Eastern and Southern</td>\n",
       "      <td>2010</td>\n",
       "      <td>3513.315920</td>\n",
       "    </tr>\n",
       "    <tr>\n",
       "      <th>42</th>\n",
       "      <td>Africa Eastern and Southern</td>\n",
       "      <td>2000</td>\n",
       "      <td>2897.140841</td>\n",
       "    </tr>\n",
       "  </tbody>\n",
       "</table>\n",
       "</div>"
      ],
      "text/plain": [
       "                        Country  Year  GDP_Per_Capita\n",
       "1                   Afghanistan  2020     1968.341002\n",
       "11                  Afghanistan  2010     2026.163818\n",
       "22  Africa Eastern and Southern  2020     3455.023119\n",
       "32  Africa Eastern and Southern  2010     3513.315920\n",
       "42  Africa Eastern and Southern  2000     2897.140841"
      ]
     },
     "execution_count": 25,
     "metadata": {},
     "output_type": "execute_result"
    }
   ],
   "source": [
    "gdp_decades.head(5)"
   ]
  },
  {
   "cell_type": "code",
   "execution_count": 26,
   "id": "0f76252a-4637-4175-8ed2-8882256347ac",
   "metadata": {},
   "outputs": [
    {
     "data": {
      "text/plain": [
       "<Axes: xlabel='Year', ylabel='GDP_Per_Capita'>"
      ]
     },
     "execution_count": 26,
     "metadata": {},
     "output_type": "execute_result"
    },
    {
     "data": {
      "image/png": "[encoded data removed]",
      "text/plain": [
       "<Figure size 640x480 with 1 Axes>"
      ]
     },
     "metadata": {},
     "output_type": "display_data"
    }
   ],
   "source": [
    "sns.boxplot( x=gdp_decades[\"Year\"], y=gdp_decades[\"GDP_Per_Capita\"] )"
   ]
  },
  {
   "cell_type": "markdown",
   "id": "ef80a296-bbe7-457d-af9b-ad4676088f34",
   "metadata": {},
   "source": [
    "gdp_decades.plot(kind = 'bar',\n",
    "                                        figsize = (10,6))               # Increase the plot size                \n",
    "\n",
    "plt.xticks(rotation = 0,                                                # Remove the rotation of the labels\n",
    "           fontsize = 12)                   \n",
    "plt.title('GDP Per Capita by Decade',                              # Add a title\n",
    "         fontsize = 14,\n",
    "         fontweight = 'bold');"
   ]
  },
  {
   "cell_type": "code",
   "execution_count": 28,
   "id": "3f98b559-04df-4562-9876-2d18d51b926f",
   "metadata": {},
   "outputs": [
    {
     "name": "stderr",
     "output_type": "stream",
     "text": [
      "C:\\Users\\erica\\AppData\\Local\\Temp\\ipykernel_3820\\2368823046.py:5: FutureWarning: \n",
      "\n",
      "The `ci` parameter is deprecated. Use `errorbar=None` for the same effect.\n",
      "\n",
      "  sns.barplot(\n"
     ]
    },
    {
     "data": {
      "image/png": "[encoded data removed]",
      "text/plain": [
       "<Figure size 800x800 with 1 Axes>"
      ]
     },
     "metadata": {},
     "output_type": "display_data"
    }
   ],
   "source": [
    "# Set the figure size\n",
    "plt.figure(figsize=(8, 8))\n",
    "\n",
    "# plot a bar chart\n",
    "sns.barplot(\n",
    "    y=\"GDP_Per_Capita\", \n",
    "    x=\"Year\", \n",
    "    data=gdp_decades, \n",
    "    estimator=sum, \n",
    "    ci=None, \n",
    "    color='#69b3a2');"
   ]
  },
  {
   "cell_type": "code",
   "execution_count": 29,
   "id": "9dda8923-27d1-4ccb-bd47-f0d9145c29fc",
   "metadata": {},
   "outputs": [
    {
     "data": {
      "text/plain": [
       "<Axes: xlabel='GDP_Per_Capita', ylabel='Year'>"
      ]
     },
     "execution_count": 29,
     "metadata": {},
     "output_type": "execute_result"
    },
    {
     "data": {
      "image/png": "[encoded data removed]",
      "text/plain": [
       "<Figure size 640x480 with 1 Axes>"
      ]
     },
     "metadata": {},
     "output_type": "display_data"
    }
   ],
   "source": [
    "sns.regplot(x=gdp_decades[\"GDP_Per_Capita\"], y=gdp_decades[\"Year\"])"
   ]
  },
  {
   "cell_type": "code",
   "execution_count": 30,
   "id": "18964a71-5c23-4ecb-9e11-a3d6f69e8906",
   "metadata": {},
   "outputs": [
    {
     "data": {
      "image/png": "[encoded data removed]",
      "text/plain": [
       "<Figure size 800x600 with 1 Axes>"
      ]
     },
     "metadata": {},
     "output_type": "display_data"
    }
   ],
   "source": [
    "fig, ax = plt.subplots(figsize=(8, 6))\n",
    "sns.regplot(\n",
    "    x=gdp_decades[\"GDP_Per_Capita\"],\n",
    "    y=gdp_decades[\"Year\"],\n",
    "    line_kws={\"color\": \"r\"},\n",
    "    ax=ax\n",
    ")\n",
    "plt.show()"
   ]
  },
  {
   "cell_type": "markdown",
   "id": "b0783ffc-5e25-419f-8b71-cacb4b54927b",
   "metadata": {},
   "source": [
    "11. Which country was the first to have a GDP per capita greater than $100,000?#69b3a2');"
   ]
  },
  {
   "cell_type": "code",
   "execution_count": 32,
   "id": "0c631c06-1268-4719-ae12-391a7cab8251",
   "metadata": {},
   "outputs": [
    {
     "data": {
      "text/html": [
       "<div>\n",
       "<style scoped>\n",
       "    .dataframe tbody tr th:only-of-type {\n",
       "        vertical-align: middle;\n",
       "    }\n",
       "\n",
       "    .dataframe tbody tr th {\n",
       "        vertical-align: top;\n",
       "    }\n",
       "\n",
       "    .dataframe thead th {\n",
       "        text-align: right;\n",
       "    }\n",
       "</style>\n",
       "<table border=\"1\" class=\"dataframe\">\n",
       "  <thead>\n",
       "    <tr style=\"text-align: right;\">\n",
       "      <th></th>\n",
       "      <th>Country</th>\n",
       "      <th>Year</th>\n",
       "      <th>GDP_Per_Capita</th>\n",
       "    </tr>\n",
       "  </thead>\n",
       "  <tbody>\n",
       "    <tr>\n",
       "      <th>3277</th>\n",
       "      <td>Ireland</td>\n",
       "      <td>2022</td>\n",
       "      <td>113870.785550</td>\n",
       "    </tr>\n",
       "    <tr>\n",
       "      <th>3278</th>\n",
       "      <td>Ireland</td>\n",
       "      <td>2021</td>\n",
       "      <td>102785.490239</td>\n",
       "    </tr>\n",
       "    <tr>\n",
       "      <th>4146</th>\n",
       "      <td>Luxembourg</td>\n",
       "      <td>2022</td>\n",
       "      <td>115541.774828</td>\n",
       "    </tr>\n",
       "    <tr>\n",
       "      <th>4147</th>\n",
       "      <td>Luxembourg</td>\n",
       "      <td>2021</td>\n",
       "      <td>115683.493708</td>\n",
       "    </tr>\n",
       "    <tr>\n",
       "      <th>4148</th>\n",
       "      <td>Luxembourg</td>\n",
       "      <td>2020</td>\n",
       "      <td>111751.314751</td>\n",
       "    </tr>\n",
       "    <tr>\n",
       "      <th>4149</th>\n",
       "      <td>Luxembourg</td>\n",
       "      <td>2019</td>\n",
       "      <td>114542.496934</td>\n",
       "    </tr>\n",
       "    <tr>\n",
       "      <th>4150</th>\n",
       "      <td>Luxembourg</td>\n",
       "      <td>2018</td>\n",
       "      <td>114164.468558</td>\n",
       "    </tr>\n",
       "    <tr>\n",
       "      <th>4151</th>\n",
       "      <td>Luxembourg</td>\n",
       "      <td>2017</td>\n",
       "      <td>114985.842236</td>\n",
       "    </tr>\n",
       "    <tr>\n",
       "      <th>4152</th>\n",
       "      <td>Luxembourg</td>\n",
       "      <td>2016</td>\n",
       "      <td>116283.699681</td>\n",
       "    </tr>\n",
       "    <tr>\n",
       "      <th>4153</th>\n",
       "      <td>Luxembourg</td>\n",
       "      <td>2015</td>\n",
       "      <td>113182.728563</td>\n",
       "    </tr>\n",
       "    <tr>\n",
       "      <th>4154</th>\n",
       "      <td>Luxembourg</td>\n",
       "      <td>2014</td>\n",
       "      <td>113313.578898</td>\n",
       "    </tr>\n",
       "    <tr>\n",
       "      <th>4155</th>\n",
       "      <td>Luxembourg</td>\n",
       "      <td>2013</td>\n",
       "      <td>113050.663254</td>\n",
       "    </tr>\n",
       "    <tr>\n",
       "      <th>4156</th>\n",
       "      <td>Luxembourg</td>\n",
       "      <td>2012</td>\n",
       "      <td>112137.135491</td>\n",
       "    </tr>\n",
       "    <tr>\n",
       "      <th>4157</th>\n",
       "      <td>Luxembourg</td>\n",
       "      <td>2011</td>\n",
       "      <td>112998.390477</td>\n",
       "    </tr>\n",
       "    <tr>\n",
       "      <th>4158</th>\n",
       "      <td>Luxembourg</td>\n",
       "      <td>2010</td>\n",
       "      <td>114343.988089</td>\n",
       "    </tr>\n",
       "    <tr>\n",
       "      <th>4159</th>\n",
       "      <td>Luxembourg</td>\n",
       "      <td>2009</td>\n",
       "      <td>112230.081410</td>\n",
       "    </tr>\n",
       "    <tr>\n",
       "      <th>4160</th>\n",
       "      <td>Luxembourg</td>\n",
       "      <td>2008</td>\n",
       "      <td>118154.667184</td>\n",
       "    </tr>\n",
       "    <tr>\n",
       "      <th>4161</th>\n",
       "      <td>Luxembourg</td>\n",
       "      <td>2007</td>\n",
       "      <td>120647.822959</td>\n",
       "    </tr>\n",
       "    <tr>\n",
       "      <th>4162</th>\n",
       "      <td>Luxembourg</td>\n",
       "      <td>2006</td>\n",
       "      <td>113346.035782</td>\n",
       "    </tr>\n",
       "    <tr>\n",
       "      <th>4163</th>\n",
       "      <td>Luxembourg</td>\n",
       "      <td>2005</td>\n",
       "      <td>108632.360016</td>\n",
       "    </tr>\n",
       "    <tr>\n",
       "      <th>4164</th>\n",
       "      <td>Luxembourg</td>\n",
       "      <td>2004</td>\n",
       "      <td>107634.837198</td>\n",
       "    </tr>\n",
       "    <tr>\n",
       "      <th>4165</th>\n",
       "      <td>Luxembourg</td>\n",
       "      <td>2003</td>\n",
       "      <td>104743.000088</td>\n",
       "    </tr>\n",
       "    <tr>\n",
       "      <th>4166</th>\n",
       "      <td>Luxembourg</td>\n",
       "      <td>2002</td>\n",
       "      <td>103317.331098</td>\n",
       "    </tr>\n",
       "    <tr>\n",
       "      <th>4167</th>\n",
       "      <td>Luxembourg</td>\n",
       "      <td>2001</td>\n",
       "      <td>101143.147977</td>\n",
       "    </tr>\n",
       "    <tr>\n",
       "      <th>4182</th>\n",
       "      <td>Macao SAR, China</td>\n",
       "      <td>2019</td>\n",
       "      <td>122822.124456</td>\n",
       "    </tr>\n",
       "    <tr>\n",
       "      <th>4183</th>\n",
       "      <td>Macao SAR, China</td>\n",
       "      <td>2018</td>\n",
       "      <td>128437.322962</td>\n",
       "    </tr>\n",
       "    <tr>\n",
       "      <th>4184</th>\n",
       "      <td>Macao SAR, China</td>\n",
       "      <td>2017</td>\n",
       "      <td>122977.508955</td>\n",
       "    </tr>\n",
       "    <tr>\n",
       "      <th>4185</th>\n",
       "      <td>Macao SAR, China</td>\n",
       "      <td>2016</td>\n",
       "      <td>113941.669777</td>\n",
       "    </tr>\n",
       "    <tr>\n",
       "      <th>4186</th>\n",
       "      <td>Macao SAR, China</td>\n",
       "      <td>2015</td>\n",
       "      <td>116855.533716</td>\n",
       "    </tr>\n",
       "    <tr>\n",
       "      <th>4187</th>\n",
       "      <td>Macao SAR, China</td>\n",
       "      <td>2014</td>\n",
       "      <td>151616.402364</td>\n",
       "    </tr>\n",
       "    <tr>\n",
       "      <th>4188</th>\n",
       "      <td>Macao SAR, China</td>\n",
       "      <td>2013</td>\n",
       "      <td>157602.482546</td>\n",
       "    </tr>\n",
       "    <tr>\n",
       "      <th>4189</th>\n",
       "      <td>Macao SAR, China</td>\n",
       "      <td>2012</td>\n",
       "      <td>144891.341893</td>\n",
       "    </tr>\n",
       "    <tr>\n",
       "      <th>4190</th>\n",
       "      <td>Macao SAR, China</td>\n",
       "      <td>2011</td>\n",
       "      <td>135365.387353</td>\n",
       "    </tr>\n",
       "    <tr>\n",
       "      <th>4191</th>\n",
       "      <td>Macao SAR, China</td>\n",
       "      <td>2010</td>\n",
       "      <td>114042.495308</td>\n",
       "    </tr>\n",
       "    <tr>\n",
       "      <th>5751</th>\n",
       "      <td>Qatar</td>\n",
       "      <td>2015</td>\n",
       "      <td>101971.989608</td>\n",
       "    </tr>\n",
       "    <tr>\n",
       "      <th>5752</th>\n",
       "      <td>Qatar</td>\n",
       "      <td>2014</td>\n",
       "      <td>106141.326189</td>\n",
       "    </tr>\n",
       "    <tr>\n",
       "      <th>5753</th>\n",
       "      <td>Qatar</td>\n",
       "      <td>2013</td>\n",
       "      <td>109625.629601</td>\n",
       "    </tr>\n",
       "    <tr>\n",
       "      <th>5754</th>\n",
       "      <td>Qatar</td>\n",
       "      <td>2012</td>\n",
       "      <td>110931.506472</td>\n",
       "    </tr>\n",
       "    <tr>\n",
       "      <th>5755</th>\n",
       "      <td>Qatar</td>\n",
       "      <td>2011</td>\n",
       "      <td>111879.747777</td>\n",
       "    </tr>\n",
       "    <tr>\n",
       "      <th>5756</th>\n",
       "      <td>Qatar</td>\n",
       "      <td>2010</td>\n",
       "      <td>103902.519310</td>\n",
       "    </tr>\n",
       "    <tr>\n",
       "      <th>6106</th>\n",
       "      <td>Singapore</td>\n",
       "      <td>2022</td>\n",
       "      <td>108036.110993</td>\n",
       "    </tr>\n",
       "    <tr>\n",
       "      <th>6107</th>\n",
       "      <td>Singapore</td>\n",
       "      <td>2021</td>\n",
       "      <td>107741.118436</td>\n",
       "    </tr>\n",
       "    <tr>\n",
       "      <th>7295</th>\n",
       "      <td>United Arab Emirates</td>\n",
       "      <td>1997</td>\n",
       "      <td>100956.706467</td>\n",
       "    </tr>\n",
       "    <tr>\n",
       "      <th>7301</th>\n",
       "      <td>United Arab Emirates</td>\n",
       "      <td>1991</td>\n",
       "      <td>101048.696239</td>\n",
       "    </tr>\n",
       "    <tr>\n",
       "      <th>7302</th>\n",
       "      <td>United Arab Emirates</td>\n",
       "      <td>1990</td>\n",
       "      <td>105893.626059</td>\n",
       "    </tr>\n",
       "  </tbody>\n",
       "</table>\n",
       "</div>"
      ],
      "text/plain": [
       "                   Country  Year  GDP_Per_Capita\n",
       "3277               Ireland  2022   113870.785550\n",
       "3278               Ireland  2021   102785.490239\n",
       "4146            Luxembourg  2022   115541.774828\n",
       "4147            Luxembourg  2021   115683.493708\n",
       "4148            Luxembourg  2020   111751.314751\n",
       "4149            Luxembourg  2019   114542.496934\n",
       "4150            Luxembourg  2018   114164.468558\n",
       "4151            Luxembourg  2017   114985.842236\n",
       "4152            Luxembourg  2016   116283.699681\n",
       "4153            Luxembourg  2015   113182.728563\n",
       "4154            Luxembourg  2014   113313.578898\n",
       "4155            Luxembourg  2013   113050.663254\n",
       "4156            Luxembourg  2012   112137.135491\n",
       "4157            Luxembourg  2011   112998.390477\n",
       "4158            Luxembourg  2010   114343.988089\n",
       "4159            Luxembourg  2009   112230.081410\n",
       "4160            Luxembourg  2008   118154.667184\n",
       "4161            Luxembourg  2007   120647.822959\n",
       "4162            Luxembourg  2006   113346.035782\n",
       "4163            Luxembourg  2005   108632.360016\n",
       "4164            Luxembourg  2004   107634.837198\n",
       "4165            Luxembourg  2003   104743.000088\n",
       "4166            Luxembourg  2002   103317.331098\n",
       "4167            Luxembourg  2001   101143.147977\n",
       "4182      Macao SAR, China  2019   122822.124456\n",
       "4183      Macao SAR, China  2018   128437.322962\n",
       "4184      Macao SAR, China  2017   122977.508955\n",
       "4185      Macao SAR, China  2016   113941.669777\n",
       "4186      Macao SAR, China  2015   116855.533716\n",
       "4187      Macao SAR, China  2014   151616.402364\n",
       "4188      Macao SAR, China  2013   157602.482546\n",
       "4189      Macao SAR, China  2012   144891.341893\n",
       "4190      Macao SAR, China  2011   135365.387353\n",
       "4191      Macao SAR, China  2010   114042.495308\n",
       "5751                 Qatar  2015   101971.989608\n",
       "5752                 Qatar  2014   106141.326189\n",
       "5753                 Qatar  2013   109625.629601\n",
       "5754                 Qatar  2012   110931.506472\n",
       "5755                 Qatar  2011   111879.747777\n",
       "5756                 Qatar  2010   103902.519310\n",
       "6106             Singapore  2022   108036.110993\n",
       "6107             Singapore  2021   107741.118436\n",
       "7295  United Arab Emirates  1997   100956.706467\n",
       "7301  United Arab Emirates  1991   101048.696239\n",
       "7302  United Arab Emirates  1990   105893.626059"
      ]
     },
     "execution_count": 32,
     "metadata": {},
     "output_type": "execute_result"
    }
   ],
   "source": [
    "gdp_df[gdp_df[\"GDP_Per_Capita\"]>100000]"
   ]
  },
  {
   "cell_type": "markdown",
   "id": "8e123b20-6a72-4575-b51b-7cf7b127d6ec",
   "metadata": {},
   "source": [
    "United Arab Emirates, 1990"
   ]
  },
  {
   "cell_type": "markdown",
   "id": "c3ce86e1-4c52-4237-b5d9-6327bc22e875",
   "metadata": {},
   "source": [
    "12. Which country had the highest GDP per capita in 2020? Create a plot showing how this country's GDP per capita has changed over the timespan of the dataset."
   ]
  },
  {
   "cell_type": "markdown",
   "id": "22287354-3b12-4930-b3ea-42aa6e815ecc",
   "metadata": {},
   "source": [
    "gdp_df[gdp_df['GDP_Per_Capita'].max]"
   ]
  },
  {
   "cell_type": "code",
   "execution_count": 36,
   "id": "e67c3a24-8e14-47a3-b043-b6e01aabb735",
   "metadata": {},
   "outputs": [
    {
     "data": {
      "text/plain": [
       "Country\n",
       "Afghanistan                     2165.340915\n",
       "Africa Eastern and Southern     3661.360566\n",
       "Africa Western and Central      4148.547272\n",
       "Albania                        15501.662931\n",
       "Algeria                        11888.322967\n",
       "                                   ...     \n",
       "Viet Nam                       11396.531469\n",
       "West Bank and Gaza              6438.933640\n",
       "World                          17485.934316\n",
       "Zambia                          3425.948936\n",
       "Zimbabwe                        2931.725144\n",
       "Name: GDP_Per_Capita, Length: 242, dtype: float64"
      ]
     },
     "execution_count": 36,
     "metadata": {},
     "output_type": "execute_result"
    }
   ],
   "source": [
    "gdp_df.groupby(\"Country\")[\"GDP_Per_Capita\"].max()"
   ]
  },
  {
   "cell_type": "code",
   "execution_count": 37,
   "id": "bb6b447a-57c0-45d8-9c80-a4f95c063fb3",
   "metadata": {},
   "outputs": [
    {
     "name": "stderr",
     "output_type": "stream",
     "text": [
      "C:\\Users\\erica\\AppData\\Local\\Temp\\ipykernel_3820\\968430543.py:1: FutureWarning: The provided callable <built-in function max> is currently using DataFrame.max. In a future version of pandas, the provided callable will be used directly. To keep current behavior pass the string \"max\" instead.\n",
      "  top_country=gdp_2020[[\"Country\", \"GDP_Per_Capita\"]].agg(max)\n"
     ]
    }
   ],
   "source": [
    "top_country=gdp_2020[[\"Country\", \"GDP_Per_Capita\"]].agg(max)"
   ]
  },
  {
   "cell_type": "code",
   "execution_count": 38,
   "id": "73568b7b-b7c3-4787-a9bc-040ca7df19c1",
   "metadata": {},
   "outputs": [
    {
     "data": {
      "text/plain": [
       "Country                Zimbabwe\n",
       "GDP_Per_Capita    111751.314751\n",
       "dtype: object"
      ]
     },
     "execution_count": 38,
     "metadata": {},
     "output_type": "execute_result"
    }
   ],
   "source": [
    "top_country.head()"
   ]
  },
  {
   "cell_type": "code",
   "execution_count": 39,
   "id": "1456ae31-6f6c-4818-91da-36a0e56de53c",
   "metadata": {},
   "outputs": [
    {
     "data": {
      "image/png": "[encoded data removed]",
      "text/plain": [
       "<Figure size 640x480 with 2 Axes>"
      ]
     },
     "metadata": {},
     "output_type": "display_data"
    }
   ],
   "source": [
    "gdp_df[gdp_df[\"Country\"]== \"Zimbabwe\"].hist()\n",
    "plt.show()"
   ]
  },
  {
   "cell_type": "code",
   "execution_count": 40,
   "id": "fc98fa14-8394-43fb-82d1-387d85a722ba",
   "metadata": {},
   "outputs": [
    {
     "data": {
      "text/plain": [
       "<Axes: xlabel='Year'>"
      ]
     },
     "execution_count": 40,
     "metadata": {},
     "output_type": "execute_result"
    },
    {
     "data": {
      "image/png": "[encoded data removed]",
      "text/plain": [
       "<Figure size 640x480 with 1 Axes>"
      ]
     },
     "metadata": {},
     "output_type": "display_data"
    }
   ],
   "source": [
    "gdp_df[gdp_df[\"Country\"]==\"Zimbabwe\"].plot(x=\"Year\",\n",
    "            y=\"GDP_Per_Capita\",\n",
    "            kind=\"line\")"
   ]
  },
  {
   "cell_type": "markdown",
   "id": "703b5530-2236-4b2b-907a-5fb660efe91e",
   "metadata": {},
   "source": [
    "13. Which country had the lowest GDP per capita in 2020? Create a plot showing how this country's GDP per capita has changed over the timespan of the dataset. **Bonus question:** Is it true in general that coutries had a higher GDP per capita in 2020 than in 1990? Which countries had lower GDP per capita in 2020 than in 1990?\r\n"
   ]
  },
  {
   "cell_type": "code",
   "execution_count": 42,
   "id": "70d75a56-74fb-4cad-9587-173f561f3144",
   "metadata": {},
   "outputs": [
    {
     "name": "stderr",
     "output_type": "stream",
     "text": [
      "C:\\Users\\erica\\AppData\\Local\\Temp\\ipykernel_3820\\2827137254.py:1: FutureWarning: The provided callable <built-in function min> is currently using DataFrame.min. In a future version of pandas, the provided callable will be used directly. To keep current behavior pass the string \"min\" instead.\n",
      "  gdp_2020[[\"Country\", \"GDP_Per_Capita\"]].agg(min)\n"
     ]
    },
    {
     "data": {
      "text/plain": [
       "Country           Afghanistan\n",
       "GDP_Per_Capita     711.355263\n",
       "dtype: object"
      ]
     },
     "execution_count": 42,
     "metadata": {},
     "output_type": "execute_result"
    }
   ],
   "source": [
    "gdp_2020[[\"Country\", \"GDP_Per_Capita\"]].agg(min)"
   ]
  },
  {
   "cell_type": "code",
   "execution_count": 43,
   "id": "b0d615c5-fd2e-4e68-89e5-0224d6f67d36",
   "metadata": {},
   "outputs": [
    {
     "data": {
      "text/plain": [
       "<Axes: xlabel='Year'>"
      ]
     },
     "execution_count": 43,
     "metadata": {},
     "output_type": "execute_result"
    },
    {
     "data": {
      "image/png": "[encoded data removed]",
      "text/plain": [
       "<Figure size 640x480 with 1 Axes>"
      ]
     },
     "metadata": {},
     "output_type": "display_data"
    }
   ],
   "source": [
    "gdp_df[gdp_df[\"Country\"]==\"Afghanistan\"].plot(x=\"Year\",\n",
    "            y=\"GDP_Per_Capita\",\n",
    "            kind=\"line\")"
   ]
  },
  {
   "cell_type": "markdown",
   "id": "5d24f470-e1cf-4747-b9ab-901212b943e2",
   "metadata": {},
   "source": [
    "14. Read in the internet use dataset into a DataFrame named `internet_df`. You will likely get errors when doing this. Check the arguments for the read_csv function to find ones that can help correct the errors "
   ]
  },
  {
   "cell_type": "markdown",
   "id": "26492ae2-71d6-42ab-83a3-fde31344e7bd",
   "metadata": {},
   "source": [
    "internet_df = pd.read_csv(r'C:\\DA12\\projects\\un-python-ericahen\\data\\internet_use.csv')\n",
    "skip line 6378"
   ]
  },
  {
   "cell_type": "code",
   "execution_count": 46,
   "id": "056afd40-5f55-4073-bfef-e81701e806ed",
   "metadata": {},
   "outputs": [],
   "source": [
    "internet_df = pd.read_csv(r'C:\\DA12\\projects\\un-python-ericahen\\data\\internet_use.csv', \n",
    "                                    on_bad_lines='skip')"
   ]
  },
  {
   "cell_type": "markdown",
   "id": "ff5b0d7c-4540-49a6-b37c-e35dc2394f1c",
   "metadata": {},
   "source": [
    "^ I dont think that is the correct code that rob told us to use in class to skip that line, but I cannot find the right one written anywhere in my notes. I found this solution on stack overflow."
   ]
  },
  {
   "cell_type": "markdown",
   "id": "17c3932a-dc44-46f6-87f6-286346dbb32c",
   "metadata": {},
   "source": [
    "internet_df = pd.read_csv(r'C:\\DA12\\projects\\un-python-ericahen\\data\\internet_use.csv')[:-1]"
   ]
  },
  {
   "cell_type": "code",
   "execution_count": 49,
   "id": "1ebf669c-94cb-4e34-9e37-f31ddce12ec1",
   "metadata": {},
   "outputs": [
    {
     "name": "stdout",
     "output_type": "stream",
     "text": [
      "<class 'pandas.core.frame.DataFrame'>\n",
      "RangeIndex: 6380 entries, 0 to 6379\n",
      "Data columns (total 4 columns):\n",
      " #   Column           Non-Null Count  Dtype  \n",
      "---  ------           --------------  -----  \n",
      " 0   Country or Area  6380 non-null   object \n",
      " 1   Year             6380 non-null   object \n",
      " 2   Value            6083 non-null   float64\n",
      " 3   Value Footnotes  2826 non-null   object \n",
      "dtypes: float64(1), object(3)\n",
      "memory usage: 199.5+ KB\n"
     ]
    }
   ],
   "source": [
    "internet_df.info()"
   ]
  },
  {
   "cell_type": "code",
   "execution_count": 50,
   "id": "1b8a260e-cb38-4dd5-95cc-928fec6487c5",
   "metadata": {},
   "outputs": [
    {
     "data": {
      "text/plain": [
       "Country or Area  Year  Value      Value Footnotes\n",
       "Afghanistan      2001  0.004723   4                  1\n",
       "Pakistan         2017  13.780000  4                  1\n",
       "North Macedonia  2012  57.449900  203                1\n",
       "                 2013  65.240000  203                1\n",
       "                 2014  68.058500  70                 1\n",
       "                                                    ..\n",
       "Germany          2009  79.000000  44                 1\n",
       "                 2010  82.000000  44                 1\n",
       "                 2011  81.270000  105                1\n",
       "                 2012  82.350000  34                 1\n",
       "Zimbabwe         2022  32.561500  4                  1\n",
       "Name: count, Length: 2826, dtype: int64"
      ]
     },
     "execution_count": 50,
     "metadata": {},
     "output_type": "execute_result"
    }
   ],
   "source": [
    "internet_df.value_counts()"
   ]
  },
  {
   "cell_type": "code",
   "execution_count": 51,
   "id": "aed21306-95f4-4410-bfd4-19b904054c5a",
   "metadata": {},
   "outputs": [
    {
     "data": {
      "text/html": [
       "<div>\n",
       "<style scoped>\n",
       "    .dataframe tbody tr th:only-of-type {\n",
       "        vertical-align: middle;\n",
       "    }\n",
       "\n",
       "    .dataframe tbody tr th {\n",
       "        vertical-align: top;\n",
       "    }\n",
       "\n",
       "    .dataframe thead th {\n",
       "        text-align: right;\n",
       "    }\n",
       "</style>\n",
       "<table border=\"1\" class=\"dataframe\">\n",
       "  <thead>\n",
       "    <tr style=\"text-align: right;\">\n",
       "      <th></th>\n",
       "      <th>Country or Area</th>\n",
       "      <th>Year</th>\n",
       "      <th>Value</th>\n",
       "      <th>Value Footnotes</th>\n",
       "    </tr>\n",
       "  </thead>\n",
       "  <tbody>\n",
       "    <tr>\n",
       "      <th>0</th>\n",
       "      <td>Afghanistan</td>\n",
       "      <td>2019</td>\n",
       "      <td>17.60</td>\n",
       "      <td>1</td>\n",
       "    </tr>\n",
       "    <tr>\n",
       "      <th>1</th>\n",
       "      <td>Afghanistan</td>\n",
       "      <td>2018</td>\n",
       "      <td>16.80</td>\n",
       "      <td>2</td>\n",
       "    </tr>\n",
       "    <tr>\n",
       "      <th>2</th>\n",
       "      <td>Afghanistan</td>\n",
       "      <td>2017</td>\n",
       "      <td>13.50</td>\n",
       "      <td>3</td>\n",
       "    </tr>\n",
       "    <tr>\n",
       "      <th>3</th>\n",
       "      <td>Afghanistan</td>\n",
       "      <td>2016</td>\n",
       "      <td>11.00</td>\n",
       "      <td>4</td>\n",
       "    </tr>\n",
       "    <tr>\n",
       "      <th>4</th>\n",
       "      <td>Afghanistan</td>\n",
       "      <td>2015</td>\n",
       "      <td>8.26</td>\n",
       "      <td>4</td>\n",
       "    </tr>\n",
       "  </tbody>\n",
       "</table>\n",
       "</div>"
      ],
      "text/plain": [
       "  Country or Area  Year  Value Value Footnotes\n",
       "0     Afghanistan  2019  17.60               1\n",
       "1     Afghanistan  2018  16.80               2\n",
       "2     Afghanistan  2017  13.50               3\n",
       "3     Afghanistan  2016  11.00               4\n",
       "4     Afghanistan  2015   8.26               4"
      ]
     },
     "execution_count": 51,
     "metadata": {},
     "output_type": "execute_result"
    }
   ],
   "source": [
    "internet_df.head(5)"
   ]
  },
  {
   "cell_type": "markdown",
   "id": "554ca506-48cd-49ef-a2aa-acd67a13b9a6",
   "metadata": {},
   "source": [
    "15. Drop the `Value Footnotes` column and rename the remaining three to 'Country', 'Year', and 'Internet_Users_Pct'."
   ]
  },
  {
   "cell_type": "code",
   "execution_count": 53,
   "id": "d3a7f605-c522-47fa-a162-887f8f1c49e2",
   "metadata": {},
   "outputs": [],
   "source": [
    "internet_df=internet_df.drop(columns='Value Footnotes')"
   ]
  },
  {
   "cell_type": "code",
   "execution_count": 54,
   "id": "7f45e556-e3ed-4fa4-9959-88b6bda8dea1",
   "metadata": {},
   "outputs": [
    {
     "data": {
      "text/html": [
       "<div>\n",
       "<style scoped>\n",
       "    .dataframe tbody tr th:only-of-type {\n",
       "        vertical-align: middle;\n",
       "    }\n",
       "\n",
       "    .dataframe tbody tr th {\n",
       "        vertical-align: top;\n",
       "    }\n",
       "\n",
       "    .dataframe thead th {\n",
       "        text-align: right;\n",
       "    }\n",
       "</style>\n",
       "<table border=\"1\" class=\"dataframe\">\n",
       "  <thead>\n",
       "    <tr style=\"text-align: right;\">\n",
       "      <th></th>\n",
       "      <th>Country or Area</th>\n",
       "      <th>Year</th>\n",
       "      <th>Value</th>\n",
       "    </tr>\n",
       "  </thead>\n",
       "  <tbody>\n",
       "    <tr>\n",
       "      <th>0</th>\n",
       "      <td>Afghanistan</td>\n",
       "      <td>2019</td>\n",
       "      <td>17.60</td>\n",
       "    </tr>\n",
       "    <tr>\n",
       "      <th>1</th>\n",
       "      <td>Afghanistan</td>\n",
       "      <td>2018</td>\n",
       "      <td>16.80</td>\n",
       "    </tr>\n",
       "    <tr>\n",
       "      <th>2</th>\n",
       "      <td>Afghanistan</td>\n",
       "      <td>2017</td>\n",
       "      <td>13.50</td>\n",
       "    </tr>\n",
       "    <tr>\n",
       "      <th>3</th>\n",
       "      <td>Afghanistan</td>\n",
       "      <td>2016</td>\n",
       "      <td>11.00</td>\n",
       "    </tr>\n",
       "    <tr>\n",
       "      <th>4</th>\n",
       "      <td>Afghanistan</td>\n",
       "      <td>2015</td>\n",
       "      <td>8.26</td>\n",
       "    </tr>\n",
       "  </tbody>\n",
       "</table>\n",
       "</div>"
      ],
      "text/plain": [
       "  Country or Area  Year  Value\n",
       "0     Afghanistan  2019  17.60\n",
       "1     Afghanistan  2018  16.80\n",
       "2     Afghanistan  2017  13.50\n",
       "3     Afghanistan  2016  11.00\n",
       "4     Afghanistan  2015   8.26"
      ]
     },
     "execution_count": 54,
     "metadata": {},
     "output_type": "execute_result"
    }
   ],
   "source": [
    "internet_df.head()"
   ]
  },
  {
   "cell_type": "code",
   "execution_count": 55,
   "id": "7434342e-f704-4d0c-b0b2-19c1a031bb44",
   "metadata": {},
   "outputs": [
    {
     "data": {
      "text/html": [
       "<div>\n",
       "<style scoped>\n",
       "    .dataframe tbody tr th:only-of-type {\n",
       "        vertical-align: middle;\n",
       "    }\n",
       "\n",
       "    .dataframe tbody tr th {\n",
       "        vertical-align: top;\n",
       "    }\n",
       "\n",
       "    .dataframe thead th {\n",
       "        text-align: right;\n",
       "    }\n",
       "</style>\n",
       "<table border=\"1\" class=\"dataframe\">\n",
       "  <thead>\n",
       "    <tr style=\"text-align: right;\">\n",
       "      <th></th>\n",
       "      <th>Country</th>\n",
       "      <th>Year</th>\n",
       "      <th>Internet_Users_Pct</th>\n",
       "    </tr>\n",
       "  </thead>\n",
       "  <tbody>\n",
       "    <tr>\n",
       "      <th>0</th>\n",
       "      <td>Afghanistan</td>\n",
       "      <td>2019</td>\n",
       "      <td>17.60</td>\n",
       "    </tr>\n",
       "    <tr>\n",
       "      <th>1</th>\n",
       "      <td>Afghanistan</td>\n",
       "      <td>2018</td>\n",
       "      <td>16.80</td>\n",
       "    </tr>\n",
       "    <tr>\n",
       "      <th>2</th>\n",
       "      <td>Afghanistan</td>\n",
       "      <td>2017</td>\n",
       "      <td>13.50</td>\n",
       "    </tr>\n",
       "    <tr>\n",
       "      <th>3</th>\n",
       "      <td>Afghanistan</td>\n",
       "      <td>2016</td>\n",
       "      <td>11.00</td>\n",
       "    </tr>\n",
       "    <tr>\n",
       "      <th>4</th>\n",
       "      <td>Afghanistan</td>\n",
       "      <td>2015</td>\n",
       "      <td>8.26</td>\n",
       "    </tr>\n",
       "  </tbody>\n",
       "</table>\n",
       "</div>"
      ],
      "text/plain": [
       "       Country  Year  Internet_Users_Pct\n",
       "0  Afghanistan  2019               17.60\n",
       "1  Afghanistan  2018               16.80\n",
       "2  Afghanistan  2017               13.50\n",
       "3  Afghanistan  2016               11.00\n",
       "4  Afghanistan  2015                8.26"
      ]
     },
     "execution_count": 55,
     "metadata": {},
     "output_type": "execute_result"
    }
   ],
   "source": [
    "internet_df=internet_df.rename(columns={'Country or Area' : 'Country', 'Value' : 'Internet_Users_Pct'})\n",
    "internet_df.head(5)"
   ]
  },
  {
   "cell_type": "markdown",
   "id": "dc0b9913-2e95-43ce-9c67-63d24ec9edad",
   "metadata": {},
   "source": [
    "16. Look at the number of observations in this dataset per year. What do you notice?"
   ]
  },
  {
   "cell_type": "markdown",
   "id": "6f342331-aa3d-4ef2-a903-654aed05fecd",
   "metadata": {},
   "source": [
    "internet_df[internet_df['Year'].info()]"
   ]
  },
  {
   "cell_type": "code",
   "execution_count": 94,
   "id": "846f2bb0-0763-4ad9-8d23-7a962ca9e826",
   "metadata": {},
   "outputs": [
    {
     "data": {
      "text/plain": [
       "Country      Year  Internet_Users_Pct\n",
       "Afghanistan  1990  0.0000                1\n",
       "Nicaragua    2009  7.3000                1\n",
       "             2018  37.6000               1\n",
       "             2017  30.4000               1\n",
       "             2016  24.5718               1\n",
       "                                        ..\n",
       "France       2013  81.9198               1\n",
       "             2012  81.4400               1\n",
       "             2011  77.8200               1\n",
       "             2010  77.2800               1\n",
       "Zimbabwe     2022  32.5615               1\n",
       "Name: count, Length: 6083, dtype: int64"
      ]
     },
     "execution_count": 94,
     "metadata": {},
     "output_type": "execute_result"
    }
   ],
   "source": [
    "internet_df.value_counts()"
   ]
  },
  {
   "cell_type": "markdown",
   "id": "a6ed255d-a49a-4602-8c39-3b613f7f7fba",
   "metadata": {},
   "source": []
  },
  {
   "cell_type": "markdown",
   "id": "3a7a3a93-c6bf-4f06-9dc9-d1f3161c25d8",
   "metadata": {},
   "source": [
    "17. What is the first year to have a non-zero internet users percentage value?"
   ]
  },
  {
   "cell_type": "code",
   "execution_count": 98,
   "id": "b9ac51c4-785b-403b-9f65-7869cd4a76d3",
   "metadata": {},
   "outputs": [
    {
     "data": {
      "text/plain": [
       "Country               Afghanistan\n",
       "Year                         1990\n",
       "Internet_Users_Pct       0.000018\n",
       "dtype: object"
      ]
     },
     "execution_count": 98,
     "metadata": {},
     "output_type": "execute_result"
    }
   ],
   "source": [
    "internet_df[internet_df[\"Internet_Users_Pct\"]>0].min()"
   ]
  },
  {
   "cell_type": "markdown",
   "id": "7cc5d796-3c66-44cf-8a20-eaf2695f9dfa",
   "metadata": {},
   "source": [
    "18. How does the distribution of internet users percent differ for 2000 and 2014?"
   ]
  },
  {
   "cell_type": "code",
   "execution_count": 104,
   "id": "837c51e0-b77f-400c-abe4-dda9fd680f78",
   "metadata": {},
   "outputs": [
    {
     "name": "stdout",
     "output_type": "stream",
     "text": [
      "<class 'pandas.core.frame.DataFrame'>\n",
      "Index: 0 entries\n",
      "Data columns (total 3 columns):\n",
      " #   Column              Non-Null Count  Dtype  \n",
      "---  ------              --------------  -----  \n",
      " 0   Country             0 non-null      object \n",
      " 1   Year                0 non-null      object \n",
      " 2   Internet_Users_Pct  0 non-null      float64\n",
      "dtypes: float64(1), object(2)\n",
      "memory usage: 0.0+ bytes\n"
     ]
    }
   ],
   "source": [
    "internet2000 = internet_df[internet_df['Year'] == 2000]\n",
    "internet2000.info()"
   ]
  },
  {
   "cell_type": "code",
   "execution_count": 106,
   "id": "56fab498-f848-4462-ba8c-93d5d03b389e",
   "metadata": {},
   "outputs": [
    {
     "name": "stdout",
     "output_type": "stream",
     "text": [
      "<class 'pandas.core.frame.DataFrame'>\n",
      "Index: 0 entries\n",
      "Data columns (total 3 columns):\n",
      " #   Column              Non-Null Count  Dtype  \n",
      "---  ------              --------------  -----  \n",
      " 0   Country             0 non-null      object \n",
      " 1   Year                0 non-null      object \n",
      " 2   Internet_Users_Pct  0 non-null      float64\n",
      "dtypes: float64(1), object(2)\n",
      "memory usage: 0.0+ bytes\n"
     ]
    }
   ],
   "source": [
    "internet2014 = internet_df[internet_df['Year'] == 2014]\n",
    "internet2014.info()"
   ]
  },
  {
   "cell_type": "code",
   "execution_count": 120,
   "id": "b65be93b-9246-42bb-9d83-dc716b796c83",
   "metadata": {},
   "outputs": [],
   "source": [
    "internet2000_and_2014 = pd.concat([internet2000, internet2014])"
   ]
  },
  {
   "cell_type": "code",
   "execution_count": 122,
   "id": "2046f40f-bba5-407d-818b-67a73c65aab7",
   "metadata": {},
   "outputs": [
    {
     "data": {
      "text/plain": [
       "array([[<Axes: title={'center': 'Internet_Users_Pct'}>]], dtype=object)"
      ]
     },
     "execution_count": 122,
     "metadata": {},
     "output_type": "execute_result"
    },
    {
     "data": {
      "image/png": "[encoded data removed]",
      "text/plain": [
       "<Figure size 640x480 with 1 Axes>"
      ]
     },
     "metadata": {},
     "output_type": "display_data"
    }
   ],
   "source": [
    "internet2000_and_2014.hist()"
   ]
  },
  {
   "cell_type": "markdown",
   "id": "9bea8d72-b215-456b-b152-113b5645eb46",
   "metadata": {},
   "source": [
    "????"
   ]
  },
  {
   "cell_type": "markdown",
   "id": "abe0c32a-f3c0-4f42-96cc-2be2f0ee4828",
   "metadata": {},
   "source": [
    "19. For how many countries was the percentage of internet users below 5% in 2014?\r\n"
   ]
  },
  {
   "cell_type": "code",
   "execution_count": null,
   "id": "265e3b81-25d0-44bd-ab84-9bbf71d34651",
   "metadata": {},
   "outputs": [],
   "source": []
  },
  {
   "cell_type": "markdown",
   "id": "726b397f-2237-42a7-9a4b-0f8e2e1b1212",
   "metadata": {},
   "source": [
    "20. Merge the two DataFrames to one. Do this in a way that keeps **all rows** from each of the two DataFrames. Call the new DataFrame `gdp_and_internet_use`. Look at the first and last few rows to confirm that it merged correctly."
   ]
  },
  {
   "cell_type": "code",
   "execution_count": 124,
   "id": "ba2606b8-a05f-4cd2-bfd3-afb5d8530e7a",
   "metadata": {},
   "outputs": [
    {
     "name": "stdout",
     "output_type": "stream",
     "text": [
      "<class 'pandas.core.frame.DataFrame'>\n",
      "Index: 14042 entries, 0 to 6379\n",
      "Data columns (total 4 columns):\n",
      " #   Column              Non-Null Count  Dtype  \n",
      "---  ------              --------------  -----  \n",
      " 0   Country             14042 non-null  object \n",
      " 1   Year                14042 non-null  object \n",
      " 2   GDP_Per_Capita      7662 non-null   float64\n",
      " 3   Internet_Users_Pct  6083 non-null   float64\n",
      "dtypes: float64(2), object(2)\n",
      "memory usage: 548.5+ KB\n"
     ]
    }
   ],
   "source": [
    "gdp_and_internet_use = pd.concat([gdp_df, internet_df])\n",
    "gdp_and_internet_use.info()"
   ]
  },
  {
   "cell_type": "markdown",
   "id": "72b74aa5-5e89-49f5-bfa3-3397bf13ca1b",
   "metadata": {},
   "source": [
    "21. Find the three countries with the highest internet users percentage in 2014. Use a seaborn FacetGrid (https://seaborn.pydata.org/generated/seaborn.FacetGrid.html) to compare how the GDP per capita has changed over time for these three countries. What do you notice?"
   ]
  },
  {
   "cell_type": "markdown",
   "id": "75b221f9-0ad4-44a4-9099-93ca225fce10",
   "metadata": {},
   "source": [
    "gdp_and_internet_use[gdp_and_internet_use[\"Country\"](\"Internet_Users_Pct\").max()]"
   ]
  },
  {
   "cell_type": "code",
   "execution_count": 130,
   "id": "e2b375ac-7063-461e-960f-d7911a996b39",
   "metadata": {},
   "outputs": [],
   "source": [
    "gdp_internet_2014 = gdp_and_internet_use[gdp_and_internet_use['Year'] == 2014]"
   ]
  },
  {
   "cell_type": "code",
   "execution_count": 132,
   "id": "cf0f9189-b1c6-4d3d-a762-82a42a2b5a55",
   "metadata": {},
   "outputs": [],
   "source": [
    "top_3_countries = gdp_internet_2014.nlargest(3, 'Internet_Users_Pct')['Country']"
   ]
  },
  {
   "cell_type": "code",
   "execution_count": 134,
   "id": "ab0d5808-5015-4ff9-ae14-1747f41999d1",
   "metadata": {},
   "outputs": [
    {
     "name": "stdout",
     "output_type": "stream",
     "text": [
      "7                     Afghanistan\n",
      "28    Africa Eastern and Southern\n",
      "61     Africa Western and Central\n",
      "Name: Country, dtype: object\n"
     ]
    }
   ],
   "source": [
    "print(top_3_countries)"
   ]
  },
  {
   "cell_type": "markdown",
   "id": "5a7e9b6e-479a-452e-9531-d1aa8072f8f3",
   "metadata": {},
   "source": [
    "g = sns.FacetGrid(top_3_countries, col=\"Internet_Users_Pct\", \"Country\")\n",
    "g.map_dataframe(sns.scatterplot, \"Internet_Users_Pct\", \"Country\")"
   ]
  },
  {
   "cell_type": "markdown",
   "id": "47f9eebc-5557-4139-ae11-3d78683623a0",
   "metadata": {},
   "source": [
    "22. Subset `gdp_and_internet_use` to just the year 2014. Save this as a new dataframe named `gdp_and_internet_use_2014`."
   ]
  },
  {
   "cell_type": "code",
   "execution_count": 136,
   "id": "0cdfbdb6-c925-42b5-8e72-3f647a0de70a",
   "metadata": {},
   "outputs": [],
   "source": [
    "gdp_and_internet_use_2014 = gdp_and_internet_use[gdp_and_internet_use['Year'] == 2014]"
   ]
  },
  {
   "cell_type": "markdown",
   "id": "786ef9e8-f5c2-4586-8a76-dba3121d31b8",
   "metadata": {},
   "source": [
    "23. Create a plot which compares Internet Users Percentage and GDP per Capita for the year 2014. What do you notice from this plot? If you see any unusual points, investigate them."
   ]
  },
  {
   "cell_type": "code",
   "execution_count": 157,
   "id": "3e075d22-b3e6-4cf3-b615-d846aa547d06",
   "metadata": {},
   "outputs": [
    {
     "data": {
      "text/plain": [
       "<Axes: xlabel='Year', ylabel='GDP_Per_Capita'>"
      ]
     },
     "execution_count": 157,
     "metadata": {},
     "output_type": "execute_result"
    },
    {
     "data": {
      "image/png": "[encoded data removed]",
      "text/plain": [
       "<Figure size 640x480 with 1 Axes>"
      ]
     },
     "metadata": {},
     "output_type": "display_data"
    }
   ],
   "source": [
    "sns.boxplot( x=gdp_and_internet_use_2014[\"Year\"], y=gdp_and_internet_use_2014[\"GDP_Per_Capita\"] )"
   ]
  },
  {
   "cell_type": "code",
   "execution_count": null,
   "id": "2910814f-da64-4d5b-9b7c-1a59c98a37b8",
   "metadata": {},
   "outputs": [],
   "source": []
  }
 ],
 "metadata": {
  "kernelspec": {
   "display_name": "Python 3 (ipykernel)",
   "language": "python",
   "name": "python3"
  },
  "language_info": {
   "codemirror_mode": {
    "name": "ipython",
    "version": 3
   },
   "file_extension": ".py",
   "mimetype": "text/x-python",
   "name": "python",
   "nbconvert_exporter": "python",
   "pygments_lexer": "ipython3",
   "version": "3.11.7"
  }
 },
 "nbformat": 4,
 "nbformat_minor": 5
}
